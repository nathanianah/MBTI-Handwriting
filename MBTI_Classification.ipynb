{
  "nbformat": 4,
  "nbformat_minor": 0,
  "metadata": {
    "colab": {
      "name": "MBTI-Classification.ipynb",
      "provenance": [],
      "collapsed_sections": [],
      "mount_file_id": "1-qvrT2fWHLeyVGltmKbeO3CVPrpbk3Pg",
      "authorship_tag": "ABX9TyPiudOrMFjK7yWESKh0NVZF",
      "include_colab_link": true
    },
    "kernelspec": {
      "name": "python3",
      "display_name": "Python 3"
    },
    "accelerator": "GPU"
  },
  "cells": [
    {
      "cell_type": "markdown",
      "metadata": {
        "id": "view-in-github",
        "colab_type": "text"
      },
      "source": [
        "<a href=\"https://colab.research.google.com/github/nathanianah/MBTI-Handwriting/blob/main/MBTI_Classification.ipynb\" target=\"_parent\"><img src=\"https://colab.research.google.com/assets/colab-badge.svg\" alt=\"Open In Colab\"/></a>"
      ]
    },
    {
      "cell_type": "code",
      "metadata": {
        "colab": {
          "base_uri": "https://localhost:8080/",
          "height": 35
        },
        "id": "Y5hP-VZCPoF1",
        "outputId": "eebd066b-7b71-4173-f3da-fdf5480071aa"
      },
      "source": [
        "import numpy as np # linear algebra\r\n",
        "import pandas as pd # data processing, CSV file I/O (e.g. pd.read_csv)\r\n",
        "import os\r\n",
        "from tqdm import tqdm_notebook as tqdm\r\n",
        "from sklearn.preprocessing import LabelEncoder\r\n",
        "from PIL import Image\r\n",
        "import matplotlib.pyplot as plt\r\n",
        "import torch\r\n",
        "# Neural networks can be constructed using the torch.nn package.\r\n",
        "import torch.nn as nn\r\n",
        "import torch.nn.functional as F\r\n",
        "import torch.optim as optim\r\n",
        "from torch.utils.data.sampler import SubsetRandomSampler\r\n",
        "from torch.utils.data import Dataset\r\n",
        "import torchvision\r\n",
        "import torchvision.transforms as transforms\r\n",
        "'''for dirname, _, filenames in os.walk('/kaggle/input'):\r\n",
        "    for filename in filenames:\r\n",
        "        print(os.path.join(dirname, filename))'''\r\n",
        "\r\n",
        "# Any results you write to the current directory are saved as output."
      ],
      "execution_count": 1,
      "outputs": [
        {
          "output_type": "execute_result",
          "data": {
            "application/vnd.google.colaboratory.intrinsic+json": {
              "type": "string"
            },
            "text/plain": [
              "\"for dirname, _, filenames in os.walk('/kaggle/input'):\\n    for filename in filenames:\\n        print(os.path.join(dirname, filename))\""
            ]
          },
          "metadata": {
            "tags": []
          },
          "execution_count": 1
        }
      ]
    },
    {
      "cell_type": "code",
      "metadata": {
        "colab": {
          "base_uri": "https://localhost:8080/"
        },
        "id": "Jy3_GMVuRsOO",
        "outputId": "c824639f-d7bc-4ada-fbaf-23ec7da7568b"
      },
      "source": [
        "device = torch.device(\"cuda:0\" if torch.cuda.is_available() else \"cpu\")\r\n",
        "\r\n",
        "# Assuming that we are on a CUDA machine, this should print a CUDA device:\r\n",
        "\r\n",
        "print(device)"
      ],
      "execution_count": 2,
      "outputs": [
        {
          "output_type": "stream",
          "text": [
            "cuda:0\n"
          ],
          "name": "stdout"
        }
      ]
    },
    {
      "cell_type": "code",
      "metadata": {
        "id": "7PGAmv9sRu25"
      },
      "source": [
        "BASE_PATH = '/content/drive/MyDrive/MBTI-Handwriting/'"
      ],
      "execution_count": 3,
      "outputs": []
    },
    {
      "cell_type": "code",
      "metadata": {
        "colab": {
          "base_uri": "https://localhost:8080/",
          "height": 312
        },
        "id": "UpclgCgTR3Sj",
        "outputId": "100ccc7e-ef4f-4841-9903-a552e7607f2e"
      },
      "source": [
        "image=[]\r\n",
        "labels=[]\r\n",
        "for file in os.listdir(BASE_PATH):\r\n",
        "    for x in [\"ISTJ\", \"ISFJ\", \"INFJ\", \"INTJ\", \"ISTP\", \"ISFP\", \"INFP\", \"INTP\", \"ESTP\", \"ESFP\", \"ENFP\", \"ENTP\", \"ESTJ\", \"ESFJ\", \"ENFJ\", \"ENTJ\"]:\r\n",
        "      if file==x:\r\n",
        "          for c in os.listdir(os.path.join(BASE_PATH, file)):\r\n",
        "              if c!='annotations':\r\n",
        "                  image.append(c)\r\n",
        "                  labels.append(x)\r\n",
        "    # if file=='INFJ':\r\n",
        "    #     for c in os.listdir(os.path.join(BASE_PATH, file)):\r\n",
        "    #         if c!='annotations':\r\n",
        "    #             image.append(c)\r\n",
        "    #             labels.append('INFJ')\r\n",
        "    # if file=='ISFJ':\r\n",
        "    #     for c in os.listdir(os.path.join(BASE_PATH, file)):\r\n",
        "    #         if c!='annotations':\r\n",
        "    #             image.append(c)\r\n",
        "    #             labels.append('ISFJ')\r\n",
        "    # if file=='ISTP':\r\n",
        "    #     for c in os.listdir(os.path.join(BASE_PATH, file)):\r\n",
        "    #         if c!='annotations':\r\n",
        "    #             image.append(c)\r\n",
        "    #             labels.append('ISTP')\r\n",
        "data = {'Images':image, 'labels':labels} \r\n",
        "data = pd.DataFrame(data) \r\n",
        "data.head()\r\n",
        "\r\n",
        "data['labels'].hist(grid=False, align='right',bins=10, rwidth=0.9)\r\n",
        "plt.title('Distribution of Responses')\r\n",
        "plt.xlabel('MBTI Personality Type')\r\n",
        "plt.ylabel('Number of Images')"
      ],
      "execution_count": 4,
      "outputs": [
        {
          "output_type": "execute_result",
          "data": {
            "text/plain": [
              "Text(0, 0.5, 'Number of Images')"
            ]
          },
          "metadata": {
            "tags": []
          },
          "execution_count": 4
        },
        {
          "output_type": "display_data",
          "data": {
            "image/png": "[encoded data removed]",
            "text/plain": [
              "<Figure size 432x288 with 1 Axes>"
            ]
          },
          "metadata": {
            "tags": [],
            "needs_background": "light"
          }
        }
      ]
    },
    {
      "cell_type": "code",
      "metadata": {
        "colab": {
          "base_uri": "https://localhost:8080/",
          "height": 173
        },
        "id": "G5NgbXUdC8tn",
        "outputId": "39dbc749-5cc6-492e-d09f-48198bd4f47a"
      },
      "source": [
        "pd.read_csv('traits.csv')"
      ],
      "execution_count": 6,
      "outputs": [
        {
          "output_type": "execute_result",
          "data": {
            "text/html": [
              "<div>\n",
              "<style scoped>\n",
              "    .dataframe tbody tr th:only-of-type {\n",
              "        vertical-align: middle;\n",
              "    }\n",
              "\n",
              "    .dataframe tbody tr th {\n",
              "        vertical-align: top;\n",
              "    }\n",
              "\n",
              "    .dataframe thead th {\n",
              "        text-align: right;\n",
              "    }\n",
              "</style>\n",
              "<table border=\"1\" class=\"dataframe\">\n",
              "  <thead>\n",
              "    <tr style=\"text-align: right;\">\n",
              "      <th></th>\n",
              "      <th>Function</th>\n",
              "      <th>Trait</th>\n",
              "      <th>Training Accuracy</th>\n",
              "      <th>Validation Accuracy</th>\n",
              "      <th>Test Accuracy</th>\n",
              "    </tr>\n",
              "  </thead>\n",
              "  <tbody>\n",
              "    <tr>\n",
              "      <th>0</th>\n",
              "      <td>Attitude</td>\n",
              "      <td>Extraversion/Introversion</td>\n",
              "      <td>100.0000</td>\n",
              "      <td>100.0000</td>\n",
              "      <td>100.0000</td>\n",
              "    </tr>\n",
              "    <tr>\n",
              "      <th>1</th>\n",
              "      <td>Information-Gathering</td>\n",
              "      <td>Intuition/Sensing</td>\n",
              "      <td>100.0000</td>\n",
              "      <td>63.0952</td>\n",
              "      <td>55.3922</td>\n",
              "    </tr>\n",
              "    <tr>\n",
              "      <th>2</th>\n",
              "      <td>Decision-Making</td>\n",
              "      <td>Feeling/Thinking</td>\n",
              "      <td>98.9796</td>\n",
              "      <td>69.0476</td>\n",
              "      <td>61.7647</td>\n",
              "    </tr>\n",
              "    <tr>\n",
              "      <th>3</th>\n",
              "      <td>Lifestyle Preference</td>\n",
              "      <td>Judging/Perception</td>\n",
              "      <td>99.4989</td>\n",
              "      <td>64.2857</td>\n",
              "      <td>60.2941</td>\n",
              "    </tr>\n",
              "  </tbody>\n",
              "</table>\n",
              "</div>"
            ],
            "text/plain": [
              "                Function  ... Test Accuracy\n",
              "0               Attitude  ...      100.0000\n",
              "1  Information-Gathering  ...       55.3922\n",
              "2        Decision-Making  ...       61.7647\n",
              "3   Lifestyle Preference  ...       60.2941\n",
              "\n",
              "[4 rows x 5 columns]"
            ]
          },
          "metadata": {
            "tags": []
          },
          "execution_count": 6
        }
      ]
    },
    {
      "cell_type": "code",
      "metadata": {
        "colab": {
          "base_uri": "https://localhost:8080/",
          "height": 204
        },
        "id": "mYs49YnMSN2b",
        "outputId": "af93a8e9-8d83-43d4-d97e-7bb3ef016823"
      },
      "source": [
        "lb = LabelEncoder()\r\n",
        "data['encoded_labels'] = lb.fit_transform(data['labels'])\r\n",
        "data.head()"
      ],
      "execution_count": 6,
      "outputs": [
        {
          "output_type": "execute_result",
          "data": {
            "text/html": [
              "<div>\n",
              "<style scoped>\n",
              "    .dataframe tbody tr th:only-of-type {\n",
              "        vertical-align: middle;\n",
              "    }\n",
              "\n",
              "    .dataframe tbody tr th {\n",
              "        vertical-align: top;\n",
              "    }\n",
              "\n",
              "    .dataframe thead th {\n",
              "        text-align: right;\n",
              "    }\n",
              "</style>\n",
              "<table border=\"1\" class=\"dataframe\">\n",
              "  <thead>\n",
              "    <tr style=\"text-align: right;\">\n",
              "      <th></th>\n",
              "      <th>Images</th>\n",
              "      <th>labels</th>\n",
              "      <th>encoded_labels</th>\n",
              "    </tr>\n",
              "  </thead>\n",
              "  <tbody>\n",
              "    <tr>\n",
              "      <th>0</th>\n",
              "      <td>U0041_027.png</td>\n",
              "      <td>ENFJ</td>\n",
              "      <td>0</td>\n",
              "    </tr>\n",
              "    <tr>\n",
              "      <th>1</th>\n",
              "      <td>U0061_027.png</td>\n",
              "      <td>ENFJ</td>\n",
              "      <td>0</td>\n",
              "    </tr>\n",
              "    <tr>\n",
              "      <th>2</th>\n",
              "      <td>U0044_027.png</td>\n",
              "      <td>ENFJ</td>\n",
              "      <td>0</td>\n",
              "    </tr>\n",
              "    <tr>\n",
              "      <th>3</th>\n",
              "      <td>U0064_027.png</td>\n",
              "      <td>ENFJ</td>\n",
              "      <td>0</td>\n",
              "    </tr>\n",
              "    <tr>\n",
              "      <th>4</th>\n",
              "      <td>U0065_027.png</td>\n",
              "      <td>ENFJ</td>\n",
              "      <td>0</td>\n",
              "    </tr>\n",
              "  </tbody>\n",
              "</table>\n",
              "</div>"
            ],
            "text/plain": [
              "          Images labels  encoded_labels\n",
              "0  U0041_027.png   ENFJ               0\n",
              "1  U0061_027.png   ENFJ               0\n",
              "2  U0044_027.png   ENFJ               0\n",
              "3  U0064_027.png   ENFJ               0\n",
              "4  U0065_027.png   ENFJ               0"
            ]
          },
          "metadata": {
            "tags": []
          },
          "execution_count": 6
        }
      ]
    },
    {
      "cell_type": "code",
      "metadata": {
        "id": "oen5Lr62SZwF"
      },
      "source": [
        "batch_size = 20\r\n",
        "validation_split = .3\r\n",
        "shuffle_dataset = True\r\n",
        "random_seed= 42"
      ],
      "execution_count": 7,
      "outputs": []
    },
    {
      "cell_type": "code",
      "metadata": {
        "id": "5w1obrB9Sewg"
      },
      "source": [
        "# Creating data indices for training and validation splits:\r\n",
        "# from sklearn.model_selection import train_test_split\r\n",
        "# tr, val = train_test_split(data.label, stratify=data.label, test_size=0.1)\r\n",
        "dataset_size = len(data)\r\n",
        "indices = list(range(dataset_size))\r\n",
        "split = int(np.floor(validation_split * dataset_size))\r\n",
        "if shuffle_dataset :\r\n",
        "    np.random.seed(random_seed)\r\n",
        "    np.random.shuffle(indices)\r\n",
        "train_indices, test_indices = indices[split:], indices[:split]\r\n",
        "#train_indices is equivalent to list(tr.index)\r\n",
        "#val_indices is equivalent to list(val.index)"
      ],
      "execution_count": 8,
      "outputs": []
    },
    {
      "cell_type": "code",
      "metadata": {
        "id": "DcxtT8W7Sfcq"
      },
      "source": [
        "# Creating PT data samplers and loaders:\r\n",
        "test_sampler = SubsetRandomSampler(test_indices)"
      ],
      "execution_count": 9,
      "outputs": []
    },
    {
      "cell_type": "code",
      "metadata": {
        "id": "-dXQv4jn-JDZ"
      },
      "source": [
        "# Creating data indices for training and validation splits:\r\n",
        "# from sklearn.model_selection import train_test_split\r\n",
        "# tr, val = train_test_split(data.label, stratify=data.label, test_size=0.1)\r\n",
        "split = int(np.floor(validation_split * len(train_indices)))\r\n",
        "if shuffle_dataset :\r\n",
        "    np.random.seed(random_seed)\r\n",
        "    np.random.shuffle(train_indices)\r\n",
        "train_indices, val_indices = train_indices[split:], train_indices[:split]\r\n",
        "#train_indices is equivalent to list(tr.index)\r\n",
        "#val_indices is equivalent to list(val.index)"
      ],
      "execution_count": 10,
      "outputs": []
    },
    {
      "cell_type": "code",
      "metadata": {
        "id": "WTZ7s1O8-JDa"
      },
      "source": [
        "# Creating PT data samplers and loaders:\r\n",
        "train_sampler = SubsetRandomSampler(train_indices)\r\n",
        "valid_sampler = SubsetRandomSampler(val_indices)"
      ],
      "execution_count": 11,
      "outputs": []
    },
    {
      "cell_type": "code",
      "metadata": {
        "id": "4fERQsF_Sk-j"
      },
      "source": [
        "transform = transforms.Compose(\r\n",
        "    [transforms.ToTensor(),\r\n",
        "     transforms.Normalize((0.5, 0.5, 0.5), (0.5, 0.5, 0.5))])"
      ],
      "execution_count": 12,
      "outputs": []
    },
    {
      "cell_type": "code",
      "metadata": {
        "id": "cMBYTyucSmgW"
      },
      "source": [
        "class MBTI_Dataset(Dataset):\r\n",
        "    def __init__(self, img_data,img_path,transform=None):\r\n",
        "        self.img_path = img_path\r\n",
        "        self.transform = transform\r\n",
        "        self.img_data = img_data\r\n",
        "        \r\n",
        "    def __len__(self):\r\n",
        "        return len(self.img_data)\r\n",
        "    \r\n",
        "    def __getitem__(self, index):\r\n",
        "        img_name = os.path.join(self.img_path,self.img_data.loc[index, 'labels'],\r\n",
        "                                self.img_data.loc[index, 'Images'])\r\n",
        "        image = Image.open(img_name)\r\n",
        "        image = image.convert('RGB')\r\n",
        "        image = image.resize((300,300))\r\n",
        "        label = torch.tensor(self.img_data.loc[index, 'encoded_labels'])\r\n",
        "        if self.transform is not None:\r\n",
        "            image = self.transform(image)\r\n",
        "        return image, label"
      ],
      "execution_count": 13,
      "outputs": []
    },
    {
      "cell_type": "code",
      "metadata": {
        "id": "WoOBJTz0SuzV"
      },
      "source": [
        "dataset = MBTI_Dataset(data,BASE_PATH,transform)"
      ],
      "execution_count": 14,
      "outputs": []
    },
    {
      "cell_type": "code",
      "metadata": {
        "id": "zJ2ZI4ssSz6R"
      },
      "source": [
        "test_loader = torch.utils.data.DataLoader(dataset, batch_size=len(test_sampler), \r\n",
        "                                           sampler=test_sampler)\r\n",
        "train_loader = torch.utils.data.DataLoader(dataset, batch_size=batch_size, \r\n",
        "                                           sampler=train_sampler)\r\n",
        "validation_loader = torch.utils.data.DataLoader(dataset, batch_size=batch_size,\r\n",
        "                                                sampler=valid_sampler)"
      ],
      "execution_count": 15,
      "outputs": []
    },
    {
      "cell_type": "code",
      "metadata": {
        "id": "lgxl9TfsS1EE"
      },
      "source": [
        "def img_display(img):\r\n",
        "    img = img / 2 + 0.5     # unnormalize\r\n",
        "    npimg = img.numpy()\r\n",
        "    npimg = np.transpose(npimg, (1, 2, 0))\r\n",
        "    return npimg"
      ],
      "execution_count": 16,
      "outputs": []
    },
    {
      "cell_type": "code",
      "metadata": {
        "colab": {
          "base_uri": "https://localhost:8080/",
          "height": 592
        },
        "id": "rD9iw5qES3kP",
        "outputId": "9146465c-46dd-46b7-81c4-5e66998ddf40"
      },
      "source": [
        "# get some random training images\r\n",
        "dataiter = iter(train_loader)\r\n",
        "images, labels = dataiter.next()\r\n",
        "\r\n",
        "mbti_types = {0: 'ENFJ', 1: 'ENFP', 2: 'ENTJ', 3: 'ESFJ', 4: 'INFJ', 5: 'INFP', 6: 'INTJ', 7: 'INTP', 8: 'ISFJ', 9: 'ISFP', 10: 'ISTP'}\r\n",
        "# Viewing data examples used for training\r\n",
        "fig, axis = plt.subplots(3, 5, figsize=(15, 10))\r\n",
        "for i, ax in enumerate(axis.flat):\r\n",
        "    with torch.no_grad():\r\n",
        "        image, label = images[i], labels[i]\r\n",
        "        ax.imshow(img_display(image)) # add image\r\n",
        "        ax.set(title = f\"{mbti_types[label.item()]}\") # add label"
      ],
      "execution_count": 17,
      "outputs": [
        {
          "output_type": "display_data",
          "data": {
            "image/png": "[encoded data removed]",
            "text/plain": [
              "<Figure size 1080x720 with 15 Axes>"
            ]
          },
          "metadata": {
            "tags": [],
            "needs_background": "light"
          }
        }
      ]
    },
    {
      "cell_type": "code",
      "metadata": {
        "id": "LerzLMT8T50g"
      },
      "source": [
        "class Net(nn.Module):\r\n",
        "    def __init__(self):\r\n",
        "        super(Net, self).__init__()\r\n",
        "        # 3 input image channel, 16 output channels, 3x3 square convolution kernel\r\n",
        "        self.conv1 = nn.Conv2d(3,16,kernel_size=3,stride=2,padding=1)\r\n",
        "        self.conv2 = nn.Conv2d(16, 32,kernel_size=3,stride=2, padding=1)\r\n",
        "        self.conv3 = nn.Conv2d(32, 64,kernel_size=3,stride=2, padding=1)\r\n",
        "        self.conv4 = nn.Conv2d(64, 64,kernel_size=3,stride=2, padding=1)\r\n",
        "        self.pool = nn.MaxPool2d(2, 2)\r\n",
        "        self.dropout = nn.Dropout2d(0.4)\r\n",
        "        self.batchnorm1 = nn.BatchNorm2d(16)\r\n",
        "        self.batchnorm2 = nn.BatchNorm2d(32)\r\n",
        "        self.batchnorm3 = nn.BatchNorm2d(64)\r\n",
        "        self.fc1 = nn.Linear(64*5*5,512 )\r\n",
        "        self.fc2 = nn.Linear(512, 256)\r\n",
        "        self.fc3 = nn.Linear(256, 16)\r\n",
        "        \r\n",
        "        \r\n",
        "    def forward(self, x):\r\n",
        "        x = self.batchnorm1(F.relu(self.conv1(x)))\r\n",
        "        x = self.batchnorm2(F.relu(self.conv2(x)))\r\n",
        "        x = self.dropout(self.batchnorm2(self.pool(x)))\r\n",
        "        x = self.batchnorm3(self.pool(F.relu(self.conv3(x))))\r\n",
        "        x = self.dropout(self.conv4(x))\r\n",
        "        x = x.view(-1, 64*5*5) # Flatten layer\r\n",
        "        x = self.dropout(self.fc1(x))\r\n",
        "        x = self.dropout(self.fc2(x))\r\n",
        "        x = F.log_softmax(self.fc3(x),dim = 1)\r\n",
        "        return x"
      ],
      "execution_count": 18,
      "outputs": []
    },
    {
      "cell_type": "code",
      "metadata": {
        "colab": {
          "base_uri": "https://localhost:8080/"
        },
        "id": "FO3Cmy2iT7HL",
        "outputId": "ce89469d-0a92-4bd2-f3ea-de474a9c7a9c"
      },
      "source": [
        "model = torch.hub.load('pytorch/vision:v0.6.0', 'resnet18', pretrained=False).to(device) # On CPU\r\n",
        "#model = Net().to(device)  # On GPU\r\n",
        "print(model)"
      ],
      "execution_count": 19,
      "outputs": [
        {
          "output_type": "stream",
          "text": [
            "Downloading: \"https://github.com/pytorch/vision/archive/v0.6.0.zip\" to /root/.cache/torch/hub/v0.6.0.zip\n"
          ],
          "name": "stderr"
        },
        {
          "output_type": "stream",
          "text": [
            "ResNet(\n",
            "  (conv1): Conv2d(3, 64, kernel_size=(7, 7), stride=(2, 2), padding=(3, 3), bias=False)\n",
            "  (bn1): BatchNorm2d(64, eps=1e-05, momentum=0.1, affine=True, track_running_stats=True)\n",
            "  (relu): ReLU(inplace=True)\n",
            "  (maxpool): MaxPool2d(kernel_size=3, stride=2, padding=1, dilation=1, ceil_mode=False)\n",
            "  (layer1): Sequential(\n",
            "    (0): BasicBlock(\n",
            "      (conv1): Conv2d(64, 64, kernel_size=(3, 3), stride=(1, 1), padding=(1, 1), bias=False)\n",
            "      (bn1): BatchNorm2d(64, eps=1e-05, momentum=0.1, affine=True, track_running_stats=True)\n",
            "      (relu): ReLU(inplace=True)\n",
            "      (conv2): Conv2d(64, 64, kernel_size=(3, 3), stride=(1, 1), padding=(1, 1), bias=False)\n",
            "      (bn2): BatchNorm2d(64, eps=1e-05, momentum=0.1, affine=True, track_running_stats=True)\n",
            "    )\n",
            "    (1): BasicBlock(\n",
            "      (conv1): Conv2d(64, 64, kernel_size=(3, 3), stride=(1, 1), padding=(1, 1), bias=False)\n",
            "      (bn1): BatchNorm2d(64, eps=1e-05, momentum=0.1, affine=True, track_running_stats=True)\n",
            "      (relu): ReLU(inplace=True)\n",
            "      (conv2): Conv2d(64, 64, kernel_size=(3, 3), stride=(1, 1), padding=(1, 1), bias=False)\n",
            "      (bn2): BatchNorm2d(64, eps=1e-05, momentum=0.1, affine=True, track_running_stats=True)\n",
            "    )\n",
            "  )\n",
            "  (layer2): Sequential(\n",
            "    (0): BasicBlock(\n",
            "      (conv1): Conv2d(64, 128, kernel_size=(3, 3), stride=(2, 2), padding=(1, 1), bias=False)\n",
            "      (bn1): BatchNorm2d(128, eps=1e-05, momentum=0.1, affine=True, track_running_stats=True)\n",
            "      (relu): ReLU(inplace=True)\n",
            "      (conv2): Conv2d(128, 128, kernel_size=(3, 3), stride=(1, 1), padding=(1, 1), bias=False)\n",
            "      (bn2): BatchNorm2d(128, eps=1e-05, momentum=0.1, affine=True, track_running_stats=True)\n",
            "      (downsample): Sequential(\n",
            "        (0): Conv2d(64, 128, kernel_size=(1, 1), stride=(2, 2), bias=False)\n",
            "        (1): BatchNorm2d(128, eps=1e-05, momentum=0.1, affine=True, track_running_stats=True)\n",
            "      )\n",
            "    )\n",
            "    (1): BasicBlock(\n",
            "      (conv1): Conv2d(128, 128, kernel_size=(3, 3), stride=(1, 1), padding=(1, 1), bias=False)\n",
            "      (bn1): BatchNorm2d(128, eps=1e-05, momentum=0.1, affine=True, track_running_stats=True)\n",
            "      (relu): ReLU(inplace=True)\n",
            "      (conv2): Conv2d(128, 128, kernel_size=(3, 3), stride=(1, 1), padding=(1, 1), bias=False)\n",
            "      (bn2): BatchNorm2d(128, eps=1e-05, momentum=0.1, affine=True, track_running_stats=True)\n",
            "    )\n",
            "  )\n",
            "  (layer3): Sequential(\n",
            "    (0): BasicBlock(\n",
            "      (conv1): Conv2d(128, 256, kernel_size=(3, 3), stride=(2, 2), padding=(1, 1), bias=False)\n",
            "      (bn1): BatchNorm2d(256, eps=1e-05, momentum=0.1, affine=True, track_running_stats=True)\n",
            "      (relu): ReLU(inplace=True)\n",
            "      (conv2): Conv2d(256, 256, kernel_size=(3, 3), stride=(1, 1), padding=(1, 1), bias=False)\n",
            "      (bn2): BatchNorm2d(256, eps=1e-05, momentum=0.1, affine=True, track_running_stats=True)\n",
            "      (downsample): Sequential(\n",
            "        (0): Conv2d(128, 256, kernel_size=(1, 1), stride=(2, 2), bias=False)\n",
            "        (1): BatchNorm2d(256, eps=1e-05, momentum=0.1, affine=True, track_running_stats=True)\n",
            "      )\n",
            "    )\n",
            "    (1): BasicBlock(\n",
            "      (conv1): Conv2d(256, 256, kernel_size=(3, 3), stride=(1, 1), padding=(1, 1), bias=False)\n",
            "      (bn1): BatchNorm2d(256, eps=1e-05, momentum=0.1, affine=True, track_running_stats=True)\n",
            "      (relu): ReLU(inplace=True)\n",
            "      (conv2): Conv2d(256, 256, kernel_size=(3, 3), stride=(1, 1), padding=(1, 1), bias=False)\n",
            "      (bn2): BatchNorm2d(256, eps=1e-05, momentum=0.1, affine=True, track_running_stats=True)\n",
            "    )\n",
            "  )\n",
            "  (layer4): Sequential(\n",
            "    (0): BasicBlock(\n",
            "      (conv1): Conv2d(256, 512, kernel_size=(3, 3), stride=(2, 2), padding=(1, 1), bias=False)\n",
            "      (bn1): BatchNorm2d(512, eps=1e-05, momentum=0.1, affine=True, track_running_stats=True)\n",
            "      (relu): ReLU(inplace=True)\n",
            "      (conv2): Conv2d(512, 512, kernel_size=(3, 3), stride=(1, 1), padding=(1, 1), bias=False)\n",
            "      (bn2): BatchNorm2d(512, eps=1e-05, momentum=0.1, affine=True, track_running_stats=True)\n",
            "      (downsample): Sequential(\n",
            "        (0): Conv2d(256, 512, kernel_size=(1, 1), stride=(2, 2), bias=False)\n",
            "        (1): BatchNorm2d(512, eps=1e-05, momentum=0.1, affine=True, track_running_stats=True)\n",
            "      )\n",
            "    )\n",
            "    (1): BasicBlock(\n",
            "      (conv1): Conv2d(512, 512, kernel_size=(3, 3), stride=(1, 1), padding=(1, 1), bias=False)\n",
            "      (bn1): BatchNorm2d(512, eps=1e-05, momentum=0.1, affine=True, track_running_stats=True)\n",
            "      (relu): ReLU(inplace=True)\n",
            "      (conv2): Conv2d(512, 512, kernel_size=(3, 3), stride=(1, 1), padding=(1, 1), bias=False)\n",
            "      (bn2): BatchNorm2d(512, eps=1e-05, momentum=0.1, affine=True, track_running_stats=True)\n",
            "    )\n",
            "  )\n",
            "  (avgpool): AdaptiveAvgPool2d(output_size=(1, 1))\n",
            "  (fc): Linear(in_features=512, out_features=1000, bias=True)\n",
            ")\n"
          ],
          "name": "stdout"
        }
      ]
    },
    {
      "cell_type": "code",
      "metadata": {
        "id": "q4egDPyzT-yG"
      },
      "source": [
        "criterion = nn.CrossEntropyLoss()\r\n",
        "optimizer = optim.AdamW(model.parameters(), lr=0.0001)"
      ],
      "execution_count": 20,
      "outputs": []
    },
    {
      "cell_type": "code",
      "metadata": {
        "id": "CuP_9tTCT_3D"
      },
      "source": [
        "def accuracy(out, labels):\r\n",
        "    _,pred = torch.max(out, dim=1)\r\n",
        "    return torch.sum(pred==labels).item()"
      ],
      "execution_count": 21,
      "outputs": []
    },
    {
      "cell_type": "code",
      "metadata": {
        "colab": {
          "base_uri": "https://localhost:8080/",
          "height": 426
        },
        "id": "YtR16_IkUE04",
        "outputId": "ac03c7b1-d32c-4ee0-b935-e08a6febfd27"
      },
      "source": [
        "n_epochs = 20\r\n",
        "print_every = 10\r\n",
        "valid_loss_min = np.Inf\r\n",
        "val_loss = []\r\n",
        "val_acc = []\r\n",
        "train_loss = []\r\n",
        "train_acc = []\r\n",
        "total_step = len(train_loader)\r\n",
        "for epoch in range(1, n_epochs+1):\r\n",
        "    running_loss = 0.0\r\n",
        "    # scheduler.step(epoch)\r\n",
        "    correct = 0\r\n",
        "    total=0\r\n",
        "    print(f'Epoch {epoch}\\n')\r\n",
        "    for batch_idx, (data_, target_) in enumerate(train_loader):\r\n",
        "        data_, target_ = data_.to(device), target_.to(device)# on GPU\r\n",
        "        # zero the parameter gradients\r\n",
        "        optimizer.zero_grad()\r\n",
        "        # forward + backward + optimize\r\n",
        "        outputs = model(data_)\r\n",
        "        loss = criterion(outputs, target_)\r\n",
        "        loss.backward()\r\n",
        "        optimizer.step()\r\n",
        "        # print statistics\r\n",
        "        running_loss += loss.item()\r\n",
        "        _,pred = torch.max(outputs, dim=1)\r\n",
        "        correct += torch.sum(pred==target_).item()\r\n",
        "        total += target_.size(0)\r\n",
        "        if (batch_idx) % 20 == 0:\r\n",
        "            print ('Epoch [{}/{}], Step [{}/{}], Loss: {:.4f}' \r\n",
        "                   .format(epoch, n_epochs, batch_idx, total_step, loss.item()))\r\n",
        "    train_acc.append(100 * correct / total)\r\n",
        "    train_loss.append(running_loss/total_step)\r\n",
        "    print(f'\\ntrain loss: {np.mean(train_loss):.4f}, train acc: {(100 * correct / total):.4f}')\r\n",
        "    batch_loss = 0\r\n",
        "    total_t=0\r\n",
        "    correct_t=0\r\n",
        "    with torch.no_grad():\r\n",
        "        model.eval()\r\n",
        "        for data_t, target_t in (validation_loader):\r\n",
        "            data_t, target_t = data_t.to(device), target_t.to(device)# on GPU\r\n",
        "            outputs_t = model(data_t)\r\n",
        "            loss_t = criterion(outputs_t, target_t)\r\n",
        "            batch_loss += loss_t.item()\r\n",
        "            _,pred_t = torch.max(outputs_t, dim=1)\r\n",
        "            correct_t += torch.sum(pred_t==target_t).item()\r\n",
        "            total_t += target_t.size(0)\r\n",
        "        val_acc.append(100 * correct_t / total_t)\r\n",
        "        val_loss.append(batch_loss/len(validation_loader))\r\n",
        "        network_learned = batch_loss < valid_loss_min\r\n",
        "        print(f'validation loss: {np.mean(val_loss):.4f}, validation acc: {(100 * correct_t / total_t):.4f}\\n')\r\n",
        "        # Saving the best weight \r\n",
        "        if network_learned:\r\n",
        "            valid_loss_min = batch_loss\r\n",
        "            torch.save(model.state_dict(), 'model_classification_tutorial.pt')\r\n",
        "            print('Detected network improvement, saving current model')\r\n",
        "    model.train()"
      ],
      "execution_count": 22,
      "outputs": [
        {
          "output_type": "stream",
          "text": [
            "Epoch 1\n",
            "\n",
            "Epoch [1/20], Step [0/10], Loss: 6.9934\n"
          ],
          "name": "stdout"
        },
        {
          "output_type": "error",
          "ename": "KeyboardInterrupt",
          "evalue": "ignored",
          "traceback": [
            "\u001b[0;31m---------------------------------------------------------------------------\u001b[0m",
            "\u001b[0;31mKeyboardInterrupt\u001b[0m                         Traceback (most recent call last)",
            "\u001b[0;32m<ipython-input-22-5e78dbbe3600>\u001b[0m in \u001b[0;36m<module>\u001b[0;34m()\u001b[0m\n\u001b[1;32m     13\u001b[0m     \u001b[0mtotal\u001b[0m\u001b[0;34m=\u001b[0m\u001b[0;36m0\u001b[0m\u001b[0;34m\u001b[0m\u001b[0;34m\u001b[0m\u001b[0m\n\u001b[1;32m     14\u001b[0m     \u001b[0mprint\u001b[0m\u001b[0;34m(\u001b[0m\u001b[0;34mf'Epoch {epoch}\\n'\u001b[0m\u001b[0;34m)\u001b[0m\u001b[0;34m\u001b[0m\u001b[0;34m\u001b[0m\u001b[0m\n\u001b[0;32m---> 15\u001b[0;31m     \u001b[0;32mfor\u001b[0m \u001b[0mbatch_idx\u001b[0m\u001b[0;34m,\u001b[0m \u001b[0;34m(\u001b[0m\u001b[0mdata_\u001b[0m\u001b[0;34m,\u001b[0m \u001b[0mtarget_\u001b[0m\u001b[0;34m)\u001b[0m \u001b[0;32min\u001b[0m \u001b[0menumerate\u001b[0m\u001b[0;34m(\u001b[0m\u001b[0mtrain_loader\u001b[0m\u001b[0;34m)\u001b[0m\u001b[0;34m:\u001b[0m\u001b[0;34m\u001b[0m\u001b[0;34m\u001b[0m\u001b[0m\n\u001b[0m\u001b[1;32m     16\u001b[0m         \u001b[0mdata_\u001b[0m\u001b[0;34m,\u001b[0m \u001b[0mtarget_\u001b[0m \u001b[0;34m=\u001b[0m \u001b[0mdata_\u001b[0m\u001b[0;34m.\u001b[0m\u001b[0mto\u001b[0m\u001b[0;34m(\u001b[0m\u001b[0mdevice\u001b[0m\u001b[0;34m)\u001b[0m\u001b[0;34m,\u001b[0m \u001b[0mtarget_\u001b[0m\u001b[0;34m.\u001b[0m\u001b[0mto\u001b[0m\u001b[0;34m(\u001b[0m\u001b[0mdevice\u001b[0m\u001b[0;34m)\u001b[0m\u001b[0;31m# on GPU\u001b[0m\u001b[0;34m\u001b[0m\u001b[0;34m\u001b[0m\u001b[0m\n\u001b[1;32m     17\u001b[0m         \u001b[0;31m# zero the parameter gradients\u001b[0m\u001b[0;34m\u001b[0m\u001b[0;34m\u001b[0m\u001b[0;34m\u001b[0m\u001b[0m\n",
            "\u001b[0;32m/usr/local/lib/python3.6/dist-packages/torch/utils/data/dataloader.py\u001b[0m in \u001b[0;36m__next__\u001b[0;34m(self)\u001b[0m\n\u001b[1;32m    433\u001b[0m         \u001b[0;32mif\u001b[0m \u001b[0mself\u001b[0m\u001b[0;34m.\u001b[0m\u001b[0m_sampler_iter\u001b[0m \u001b[0;32mis\u001b[0m \u001b[0;32mNone\u001b[0m\u001b[0;34m:\u001b[0m\u001b[0;34m\u001b[0m\u001b[0;34m\u001b[0m\u001b[0m\n\u001b[1;32m    434\u001b[0m             \u001b[0mself\u001b[0m\u001b[0;34m.\u001b[0m\u001b[0m_reset\u001b[0m\u001b[0;34m(\u001b[0m\u001b[0;34m)\u001b[0m\u001b[0;34m\u001b[0m\u001b[0;34m\u001b[0m\u001b[0m\n\u001b[0;32m--> 435\u001b[0;31m         \u001b[0mdata\u001b[0m \u001b[0;34m=\u001b[0m \u001b[0mself\u001b[0m\u001b[0;34m.\u001b[0m\u001b[0m_next_data\u001b[0m\u001b[0;34m(\u001b[0m\u001b[0;34m)\u001b[0m\u001b[0;34m\u001b[0m\u001b[0;34m\u001b[0m\u001b[0m\n\u001b[0m\u001b[1;32m    436\u001b[0m         \u001b[0mself\u001b[0m\u001b[0;34m.\u001b[0m\u001b[0m_num_yielded\u001b[0m \u001b[0;34m+=\u001b[0m \u001b[0;36m1\u001b[0m\u001b[0;34m\u001b[0m\u001b[0;34m\u001b[0m\u001b[0m\n\u001b[1;32m    437\u001b[0m         \u001b[0;32mif\u001b[0m \u001b[0mself\u001b[0m\u001b[0;34m.\u001b[0m\u001b[0m_dataset_kind\u001b[0m \u001b[0;34m==\u001b[0m \u001b[0m_DatasetKind\u001b[0m\u001b[0;34m.\u001b[0m\u001b[0mIterable\u001b[0m \u001b[0;32mand\u001b[0m\u001b[0;31m \u001b[0m\u001b[0;31m\\\u001b[0m\u001b[0;34m\u001b[0m\u001b[0;34m\u001b[0m\u001b[0m\n",
            "\u001b[0;32m/usr/local/lib/python3.6/dist-packages/torch/utils/data/dataloader.py\u001b[0m in \u001b[0;36m_next_data\u001b[0;34m(self)\u001b[0m\n\u001b[1;32m    473\u001b[0m     \u001b[0;32mdef\u001b[0m \u001b[0m_next_data\u001b[0m\u001b[0;34m(\u001b[0m\u001b[0mself\u001b[0m\u001b[0;34m)\u001b[0m\u001b[0;34m:\u001b[0m\u001b[0;34m\u001b[0m\u001b[0;34m\u001b[0m\u001b[0m\n\u001b[1;32m    474\u001b[0m         \u001b[0mindex\u001b[0m \u001b[0;34m=\u001b[0m \u001b[0mself\u001b[0m\u001b[0;34m.\u001b[0m\u001b[0m_next_index\u001b[0m\u001b[0;34m(\u001b[0m\u001b[0;34m)\u001b[0m  \u001b[0;31m# may raise StopIteration\u001b[0m\u001b[0;34m\u001b[0m\u001b[0;34m\u001b[0m\u001b[0m\n\u001b[0;32m--> 475\u001b[0;31m         \u001b[0mdata\u001b[0m \u001b[0;34m=\u001b[0m \u001b[0mself\u001b[0m\u001b[0;34m.\u001b[0m\u001b[0m_dataset_fetcher\u001b[0m\u001b[0;34m.\u001b[0m\u001b[0mfetch\u001b[0m\u001b[0;34m(\u001b[0m\u001b[0mindex\u001b[0m\u001b[0;34m)\u001b[0m  \u001b[0;31m# may raise StopIteration\u001b[0m\u001b[0;34m\u001b[0m\u001b[0;34m\u001b[0m\u001b[0m\n\u001b[0m\u001b[1;32m    476\u001b[0m         \u001b[0;32mif\u001b[0m \u001b[0mself\u001b[0m\u001b[0;34m.\u001b[0m\u001b[0m_pin_memory\u001b[0m\u001b[0;34m:\u001b[0m\u001b[0;34m\u001b[0m\u001b[0;34m\u001b[0m\u001b[0m\n\u001b[1;32m    477\u001b[0m             \u001b[0mdata\u001b[0m \u001b[0;34m=\u001b[0m \u001b[0m_utils\u001b[0m\u001b[0;34m.\u001b[0m\u001b[0mpin_memory\u001b[0m\u001b[0;34m.\u001b[0m\u001b[0mpin_memory\u001b[0m\u001b[0;34m(\u001b[0m\u001b[0mdata\u001b[0m\u001b[0;34m)\u001b[0m\u001b[0;34m\u001b[0m\u001b[0;34m\u001b[0m\u001b[0m\n",
            "\u001b[0;32m/usr/local/lib/python3.6/dist-packages/torch/utils/data/_utils/fetch.py\u001b[0m in \u001b[0;36mfetch\u001b[0;34m(self, possibly_batched_index)\u001b[0m\n\u001b[1;32m     42\u001b[0m     \u001b[0;32mdef\u001b[0m \u001b[0mfetch\u001b[0m\u001b[0;34m(\u001b[0m\u001b[0mself\u001b[0m\u001b[0;34m,\u001b[0m \u001b[0mpossibly_batched_index\u001b[0m\u001b[0;34m)\u001b[0m\u001b[0;34m:\u001b[0m\u001b[0;34m\u001b[0m\u001b[0;34m\u001b[0m\u001b[0m\n\u001b[1;32m     43\u001b[0m         \u001b[0;32mif\u001b[0m \u001b[0mself\u001b[0m\u001b[0;34m.\u001b[0m\u001b[0mauto_collation\u001b[0m\u001b[0;34m:\u001b[0m\u001b[0;34m\u001b[0m\u001b[0;34m\u001b[0m\u001b[0m\n\u001b[0;32m---> 44\u001b[0;31m             \u001b[0mdata\u001b[0m \u001b[0;34m=\u001b[0m \u001b[0;34m[\u001b[0m\u001b[0mself\u001b[0m\u001b[0;34m.\u001b[0m\u001b[0mdataset\u001b[0m\u001b[0;34m[\u001b[0m\u001b[0midx\u001b[0m\u001b[0;34m]\u001b[0m \u001b[0;32mfor\u001b[0m \u001b[0midx\u001b[0m \u001b[0;32min\u001b[0m \u001b[0mpossibly_batched_index\u001b[0m\u001b[0;34m]\u001b[0m\u001b[0;34m\u001b[0m\u001b[0;34m\u001b[0m\u001b[0m\n\u001b[0m\u001b[1;32m     45\u001b[0m         \u001b[0;32melse\u001b[0m\u001b[0;34m:\u001b[0m\u001b[0;34m\u001b[0m\u001b[0;34m\u001b[0m\u001b[0m\n\u001b[1;32m     46\u001b[0m             \u001b[0mdata\u001b[0m \u001b[0;34m=\u001b[0m \u001b[0mself\u001b[0m\u001b[0;34m.\u001b[0m\u001b[0mdataset\u001b[0m\u001b[0;34m[\u001b[0m\u001b[0mpossibly_batched_index\u001b[0m\u001b[0;34m]\u001b[0m\u001b[0;34m\u001b[0m\u001b[0;34m\u001b[0m\u001b[0m\n",
            "\u001b[0;32m/usr/local/lib/python3.6/dist-packages/torch/utils/data/_utils/fetch.py\u001b[0m in \u001b[0;36m<listcomp>\u001b[0;34m(.0)\u001b[0m\n\u001b[1;32m     42\u001b[0m     \u001b[0;32mdef\u001b[0m \u001b[0mfetch\u001b[0m\u001b[0;34m(\u001b[0m\u001b[0mself\u001b[0m\u001b[0;34m,\u001b[0m \u001b[0mpossibly_batched_index\u001b[0m\u001b[0;34m)\u001b[0m\u001b[0;34m:\u001b[0m\u001b[0;34m\u001b[0m\u001b[0;34m\u001b[0m\u001b[0m\n\u001b[1;32m     43\u001b[0m         \u001b[0;32mif\u001b[0m \u001b[0mself\u001b[0m\u001b[0;34m.\u001b[0m\u001b[0mauto_collation\u001b[0m\u001b[0;34m:\u001b[0m\u001b[0;34m\u001b[0m\u001b[0;34m\u001b[0m\u001b[0m\n\u001b[0;32m---> 44\u001b[0;31m             \u001b[0mdata\u001b[0m \u001b[0;34m=\u001b[0m \u001b[0;34m[\u001b[0m\u001b[0mself\u001b[0m\u001b[0;34m.\u001b[0m\u001b[0mdataset\u001b[0m\u001b[0;34m[\u001b[0m\u001b[0midx\u001b[0m\u001b[0;34m]\u001b[0m \u001b[0;32mfor\u001b[0m \u001b[0midx\u001b[0m \u001b[0;32min\u001b[0m \u001b[0mpossibly_batched_index\u001b[0m\u001b[0;34m]\u001b[0m\u001b[0;34m\u001b[0m\u001b[0;34m\u001b[0m\u001b[0m\n\u001b[0m\u001b[1;32m     45\u001b[0m         \u001b[0;32melse\u001b[0m\u001b[0;34m:\u001b[0m\u001b[0;34m\u001b[0m\u001b[0;34m\u001b[0m\u001b[0m\n\u001b[1;32m     46\u001b[0m             \u001b[0mdata\u001b[0m \u001b[0;34m=\u001b[0m \u001b[0mself\u001b[0m\u001b[0;34m.\u001b[0m\u001b[0mdataset\u001b[0m\u001b[0;34m[\u001b[0m\u001b[0mpossibly_batched_index\u001b[0m\u001b[0;34m]\u001b[0m\u001b[0;34m\u001b[0m\u001b[0;34m\u001b[0m\u001b[0m\n",
            "\u001b[0;32m<ipython-input-13-2cab10cc9916>\u001b[0m in \u001b[0;36m__getitem__\u001b[0;34m(self, index)\u001b[0m\n\u001b[1;32m     11\u001b[0m         img_name = os.path.join(self.img_path,self.img_data.loc[index, 'labels'],\n\u001b[1;32m     12\u001b[0m                                 self.img_data.loc[index, 'Images'])\n\u001b[0;32m---> 13\u001b[0;31m         \u001b[0mimage\u001b[0m \u001b[0;34m=\u001b[0m \u001b[0mImage\u001b[0m\u001b[0;34m.\u001b[0m\u001b[0mopen\u001b[0m\u001b[0;34m(\u001b[0m\u001b[0mimg_name\u001b[0m\u001b[0;34m)\u001b[0m\u001b[0;34m\u001b[0m\u001b[0;34m\u001b[0m\u001b[0m\n\u001b[0m\u001b[1;32m     14\u001b[0m         \u001b[0mimage\u001b[0m \u001b[0;34m=\u001b[0m \u001b[0mimage\u001b[0m\u001b[0;34m.\u001b[0m\u001b[0mconvert\u001b[0m\u001b[0;34m(\u001b[0m\u001b[0;34m'RGB'\u001b[0m\u001b[0;34m)\u001b[0m\u001b[0;34m\u001b[0m\u001b[0;34m\u001b[0m\u001b[0m\n\u001b[1;32m     15\u001b[0m         \u001b[0mimage\u001b[0m \u001b[0;34m=\u001b[0m \u001b[0mimage\u001b[0m\u001b[0;34m.\u001b[0m\u001b[0mresize\u001b[0m\u001b[0;34m(\u001b[0m\u001b[0;34m(\u001b[0m\u001b[0;36m300\u001b[0m\u001b[0;34m,\u001b[0m\u001b[0;36m300\u001b[0m\u001b[0;34m)\u001b[0m\u001b[0;34m)\u001b[0m\u001b[0;34m\u001b[0m\u001b[0;34m\u001b[0m\u001b[0m\n",
            "\u001b[0;32m/usr/local/lib/python3.6/dist-packages/PIL/Image.py\u001b[0m in \u001b[0;36mopen\u001b[0;34m(fp, mode)\u001b[0m\n\u001b[1;32m   2816\u001b[0m         \u001b[0mexclusive_fp\u001b[0m \u001b[0;34m=\u001b[0m \u001b[0;32mTrue\u001b[0m\u001b[0;34m\u001b[0m\u001b[0;34m\u001b[0m\u001b[0m\n\u001b[1;32m   2817\u001b[0m \u001b[0;34m\u001b[0m\u001b[0m\n\u001b[0;32m-> 2818\u001b[0;31m     \u001b[0mprefix\u001b[0m \u001b[0;34m=\u001b[0m \u001b[0mfp\u001b[0m\u001b[0;34m.\u001b[0m\u001b[0mread\u001b[0m\u001b[0;34m(\u001b[0m\u001b[0;36m16\u001b[0m\u001b[0;34m)\u001b[0m\u001b[0;34m\u001b[0m\u001b[0;34m\u001b[0m\u001b[0m\n\u001b[0m\u001b[1;32m   2819\u001b[0m \u001b[0;34m\u001b[0m\u001b[0m\n\u001b[1;32m   2820\u001b[0m     \u001b[0mpreinit\u001b[0m\u001b[0;34m(\u001b[0m\u001b[0;34m)\u001b[0m\u001b[0;34m\u001b[0m\u001b[0;34m\u001b[0m\u001b[0m\n",
            "\u001b[0;31mKeyboardInterrupt\u001b[0m: "
          ]
        }
      ]
    },
    {
      "cell_type": "code",
      "metadata": {
        "id": "hn3o5oBeUQVV"
      },
      "source": [
        "fig = plt.figure(figsize=(20,10))\r\n",
        "plt.title(\"Train - Validation Loss\")\r\n",
        "plt.plot( train_loss, label='train')\r\n",
        "plt.plot( val_loss, label='validation')\r\n",
        "plt.xlabel('num_epochs', fontsize=12)\r\n",
        "plt.ylabel('loss', fontsize=12)\r\n",
        "plt.legend(loc='best')"
      ],
      "execution_count": null,
      "outputs": []
    },
    {
      "cell_type": "code",
      "metadata": {
        "id": "QDpoVGBDUWgn"
      },
      "source": [
        "fig = plt.figure(figsize=(20,10))\r\n",
        "plt.title(\"Train - Validation Accuracy\")\r\n",
        "plt.plot(train_acc, label='train')\r\n",
        "plt.plot(val_acc, label='validation')\r\n",
        "plt.xlabel('num_epochs', fontsize=12)\r\n",
        "plt.ylabel('accuracy', fontsize=12)\r\n",
        "plt.legend(loc='best')"
      ],
      "execution_count": null,
      "outputs": []
    },
    {
      "cell_type": "code",
      "metadata": {
        "id": "z_uYmnXXUcyT"
      },
      "source": [
        "# Importing trained Network with better loss of validation\r\n",
        "model.load_state_dict(torch.load('model_classification_tutorial.pt'))"
      ],
      "execution_count": null,
      "outputs": []
    },
    {
      "cell_type": "code",
      "metadata": {
        "id": "1RVaOVIkUf29"
      },
      "source": [
        "dataiter = iter(test_loader)\r\n",
        "images, labels = dataiter.next()\r\n",
        "mbti_types = {0: 'ENFJ', 1: 'ENFP', 2: 'ENTJ', 3: 'ESFJ', 4: 'INFJ', 5: 'INFP', 6: 'INTJ', 7: 'INTP', 8: 'ISFJ', 9: 'ISFP', 10: 'ISTP'}\r\n",
        "# Viewing data examples used for training\r\n",
        "fig, axis = plt.subplots(3, 5, figsize=(15, 10))\r\n",
        "with torch.no_grad():\r\n",
        "    model.eval()\r\n",
        "    for ax, image, label in zip(axis.flat,images, labels):\r\n",
        "        ax.imshow(img_display(image)) # add image\r\n",
        "        image_tensor = image.unsqueeze_(0)\r\n",
        "        output_ = model(image_tensor.to(device))\r\n",
        "        output_ = output_.argmax()\r\n",
        "        k = output_.item()==label.item()\r\n",
        "        ax.set_title(str(mbti_types[output_.item()])+\"=\"+str(mbti_types[label.item()])+\":\" +str(k)) # add label"
      ],
      "execution_count": null,
      "outputs": []
    },
    {
      "cell_type": "code",
      "metadata": {
        "id": "-QqwGFPE7xiC"
      },
      "source": [
        "def accuracy(output, target, topk=(5,)):\r\n",
        "    \"\"\"Computes the precision@k for the specified values of k\"\"\"\r\n",
        "    maxk = max(topk)\r\n",
        "    batch_size = target.size(0)\r\n",
        "\r\n",
        "    _, pred = output.topk(maxk, 1, True, True)\r\n",
        "    pred = pred.t()\r\n",
        "    correct = pred.eq(target.view(1, -1).expand_as(pred))\r\n",
        "\r\n",
        "    res = []\r\n",
        "    for k in topk:\r\n",
        "        correct_k = correct[:k].contiguous().view(-1).float().sum(0)\r\n",
        "        # print(correct_k)\r\n",
        "        res.append(correct_k.mul_(100.0 / batch_size))\r\n",
        "    # print(res)\r\n",
        "    return res\r\n",
        "# model.eval()\r\n",
        "correct_5=0\r\n",
        "count = 0\r\n",
        "for data_t, target_t in (test_loader):\r\n",
        "    data_t, target_t = data_t.to(device), target_t.to(device)# on GPU\r\n",
        "    outputs_t = model(data_t)\r\n",
        "    loss_t = criterion(outputs_t, target_t)\r\n",
        "    batch_loss += loss_t.item()\r\n",
        "    _,pred_t = torch.max(outputs_t, dim=1)\r\n",
        "    correct_t += torch.sum(pred_t==target_t).item()\r\n",
        "    total_t += target_t.size(0)\r\n",
        "    acc=accuracy(outputs_t, target_t)\r\n",
        "    correct_5+=acc[0]\r\n",
        "    count += 1\r\n",
        "print(correct_5/count)\r\n",
        "val_acc=100 * correct_t / total_t\r\n",
        "# print (top1/total_t)\r\n",
        "print(val_acc)"
      ],
      "execution_count": null,
      "outputs": []
    }
  ]
}